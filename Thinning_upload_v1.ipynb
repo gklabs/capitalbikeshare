{
 "cells": [
  {
   "cell_type": "code",
   "execution_count": 1,
   "metadata": {},
   "outputs": [],
   "source": [
    "#import libraries\n",
    "\n",
    "import random\n",
    "import bisect\n",
    "import numpy as np# Define input features:\n",
    "from numpy import random\n",
    "from IPython.display import clear_output\n",
    "\n",
    "from IPython.core.interactiveshell import InteractiveShell\n",
    "InteractiveShell.ast_node_interactivity = \"all\"\n",
    "\n",
    "import pandas as pd\n",
    "\n",
    "%matplotlib inline\n",
    "import matplotlib.pyplot as plt\n",
    "\n",
    "\n",
    "\n",
    "\n",
    "# variable inputs\n",
    "SEED = None\n",
    "MAXSEEDSEQ = 1000\n",
    "u1count = 0\n",
    "counter = 0\n",
    "\n",
    "# *** OUTPUT: customer_times[] contains customer arrival times tuple (customer #, arrival time (hr))\n",
    "\n",
    "## code below\n",
    "\n",
    "random.seed(SEED)\n",
    "U1 = [random.uniform(0,1) for i in range(100000)] # contains sequence of random #s U(0,1)\n",
    "poisson1rate = [0] # stores uniform poisson arrival rates lambda == 1\n",
    "\n",
    "\n",
    "#define inverse transform functions here\n",
    "\n",
    "def eq1(x): return (x/0.258)\n",
    "def eq2(x): return (x+4.37)/1.13\n",
    "def eq3(x): return ((x+.65)/.72)\n",
    "def eq4(x): return ((x+18)/1.8)\n",
    "def eq5(x): return ((x+3.84)/1.1)\n",
    "def eq6(x): return ((x+12)/1.46)\n",
    "\n",
    "vhrthin = pd.read_csv(\"thinningdata.csv\")\n",
    "\n",
    "\n",
    "for i in range(24):\n",
    "    test = poisson1rate[i] - np.log(U1[counter])\n",
    "    while test >= 20.25 and eq6(test) >= 21.73 or test >= 24: # trim domain/range [0,24) of poisson generated value\n",
    "        counter += 1\n",
    "        test = poisson1rate[i] - np.log(U1[counter])  \n",
    "        \n",
    "    poisson1rate.append(test)\n",
    "    counter += 1\n",
    "\n",
    "poisson1rate.pop(0) # in place\n",
    "    \n",
    "\n",
    "\n",
    "#cdf inv equations\n",
    "\n",
    "'''\n",
    "eq1: y=0.258x inv_range: (0,1.29)\n",
    "\n",
    "eq2: y=1.13x - 4.37 range: 1.29-5.82\n",
    "\n",
    "eq3: y=0.72x - 0.65 range: 5.82-10.85\n",
    "\n",
    "eq4: y=1.8x - 18 range: 10.85-18.06\n",
    "\n",
    "eq5: y= 1.1x - 3.84 range: 18.06 - 20.25\n",
    "\n",
    "eq6: y=1.46x - 12, range: 20.25-24'''\n",
    "\n",
    "\n",
    "flist = [0,eq1,eq2,eq3,eq4,eq5,eq6]\n",
    "\n",
    "# define right sets inverse domain = f(x) range\n",
    "places = [\n",
    "    (1.29, '1'),\n",
    "    (5.82, '2'),\n",
    "    (10.85, '3'),\n",
    "    (18.06, '4'),\n",
    "    (20.25, '5'),\n",
    "    (24, '6')\n",
    "]\n",
    "\n",
    "places.sort() # list must be sorted\n",
    "pos_log = []\n",
    "\n",
    "for to_find in poisson1rate:\n",
    "    pos = bisect.bisect_right(places, (to_find,))\n",
    "    pos_log.append(pos)\n",
    "  #  print ('%s -> %s' % (to_find, places[pos]))\n",
    "\n",
    "times_list = [(poisson1rate[x],places[pos_log[x]]) for x in range(len(pos_log))]\n",
    "\n",
    "customer = 1\n",
    "customer_times = []\n",
    "\n",
    "for x in range(len(times_list)):\n",
    "    arrtime = flist[int(times_list[x][1][1])](times_list[x][0])\n",
    "    customer_times.append((customer, arrtime))\n",
    "    customer += 1"
   ]
  },
  {
   "cell_type": "code",
   "execution_count": 4,
   "metadata": {},
   "outputs": [
    {
     "data": {
      "text/plain": [
       "[(1, 0.12756889069609167),\n",
       " (2, 0.6056790799371888),\n",
       " (3, 3.246863819156638),\n",
       " (4, 5.205387029779107),\n",
       " (5, 6.592914315606257),\n",
       " (6, 7.368194076115311),\n",
       " (7, 10.469193614859233),\n",
       " (8, 11.46320609940882),\n",
       " (9, 13.582329803343335),\n",
       " (10, 13.874555157200856),\n",
       " (11, 15.276866934916576),\n",
       " (12, 15.355236328737933),\n",
       " (13, 16.536771110092143),\n",
       " (14, 17.04402634222219),\n",
       " (15, 17.132331996276548),\n",
       " (16, 17.37629168314294),\n",
       " (17, 17.43419440339448),\n",
       " (18, 17.489033246912946),\n",
       " (19, 17.533308632784664),\n",
       " (20, 17.693009747596154),\n",
       " (21, 18.031260056695434),\n",
       " (22, 18.10666556678218),\n",
       " (23, 18.609780521500756),\n",
       " (24, 19.18360248796166)]"
      ]
     },
     "execution_count": 4,
     "metadata": {},
     "output_type": "execute_result"
    }
   ],
   "source": [
    "customer_times ##print customer times (hrs ie 18.60 == 6:36PM)"
   ]
  },
  {
   "cell_type": "code",
   "execution_count": 5,
   "metadata": {},
   "outputs": [
    {
     "data": {
      "text/plain": [
       "<Figure size 720x720 with 0 Axes>"
      ]
     },
     "execution_count": 5,
     "metadata": {},
     "output_type": "execute_result"
    },
    {
     "data": {
      "text/plain": [
       "[<matplotlib.lines.Line2D at 0x7f4d6b19d3a0>]"
      ]
     },
     "execution_count": 5,
     "metadata": {},
     "output_type": "execute_result"
    },
    {
     "data": {
      "text/plain": [
       "Text(0.5, 1.0, 'Integrated linear function poisson constant arrival rates $\\\\lambda$(t)')"
      ]
     },
     "execution_count": 5,
     "metadata": {},
     "output_type": "execute_result"
    },
    {
     "data": {
      "text/plain": [
       "Text(0.5, 0, 'Hour in Day (t)')"
      ]
     },
     "execution_count": 5,
     "metadata": {},
     "output_type": "execute_result"
    },
    {
     "data": {
      "text/plain": [
       "Text(0, 0.5, 'Integral of Poisson arrival rate(t)')"
      ]
     },
     "execution_count": 5,
     "metadata": {},
     "output_type": "execute_result"
    },
    {
     "data": {
      "text/plain": [
       "([<matplotlib.axis.XTick at 0x7f4d6b366f10>,\n",
       "  <matplotlib.axis.XTick at 0x7f4d6b366ee0>,\n",
       "  <matplotlib.axis.XTick at 0x7f4d6b3d39a0>,\n",
       "  <matplotlib.axis.XTick at 0x7f4d6b19d640>,\n",
       "  <matplotlib.axis.XTick at 0x7f4d6b19df70>,\n",
       "  <matplotlib.axis.XTick at 0x7f4d6b1a54c0>,\n",
       "  <matplotlib.axis.XTick at 0x7f4d6b1a59d0>,\n",
       "  <matplotlib.axis.XTick at 0x7f4d6b1a5ee0>,\n",
       "  <matplotlib.axis.XTick at 0x7f4d6b1a5550>,\n",
       "  <matplotlib.axis.XTick at 0x7f4d6b19d790>,\n",
       "  <matplotlib.axis.XTick at 0x7f4d6b1aa5e0>,\n",
       "  <matplotlib.axis.XTick at 0x7f4d6b1aaaf0>,\n",
       "  <matplotlib.axis.XTick at 0x7f4d6b1b1040>,\n",
       "  <matplotlib.axis.XTick at 0x7f4d6b1b1550>,\n",
       "  <matplotlib.axis.XTick at 0x7f4d6b1b1a60>,\n",
       "  <matplotlib.axis.XTick at 0x7f4d6b1b1f70>,\n",
       "  <matplotlib.axis.XTick at 0x7f4d6b1b54c0>,\n",
       "  <matplotlib.axis.XTick at 0x7f4d6b1b59d0>,\n",
       "  <matplotlib.axis.XTick at 0x7f4d6b1b10d0>,\n",
       "  <matplotlib.axis.XTick at 0x7f4d6b1aa250>,\n",
       "  <matplotlib.axis.XTick at 0x7f4d6b1b5520>,\n",
       "  <matplotlib.axis.XTick at 0x7f4d6b1b5ee0>,\n",
       "  <matplotlib.axis.XTick at 0x7f4d6b1bd430>,\n",
       "  <matplotlib.axis.XTick at 0x7f4d6b1bd940>],\n",
       " <a list of 24 Text major ticklabel objects>)"
      ]
     },
     "execution_count": 5,
     "metadata": {},
     "output_type": "execute_result"
    },
    {
     "data": {
      "text/plain": [
       "<matplotlib.collections.PathCollection at 0x7f4d6b1bdf70>"
      ]
     },
     "execution_count": 5,
     "metadata": {},
     "output_type": "execute_result"
    },
    {
     "data": {
      "image/png": "[encoded data removed]",
      "text/plain": [
       "<Figure size 720x720 with 1 Axes>"
      ]
     },
     "metadata": {
      "needs_background": "light"
     },
     "output_type": "display_data"
    }
   ],
   "source": [
    "## Graph integral of poisson arrival non-stationary function lamda(t) wrt time t\n",
    "\n",
    "plt.figure(figsize=(10,10))\n",
    "plt.plot(vhrthin.index, vhrthin.vcumsum)\n",
    "plt.title(r'Integrated linear function poisson constant arrival rates $\\lambda$(t)')\n",
    "plt.xlabel('Hour in Day (t)')\n",
    "plt.ylabel(r'Integral of Poisson arrival rate(t)')\n",
    "plt.xticks(np.arange(24))\n",
    "plt.scatter(vhrthin.index,vhrthin.vcumsum,s=150,color='r', zorder=2)\n"
   ]
  }
 ],
 "metadata": {
  "kernelspec": {
   "display_name": "Python 3",
   "language": "python",
   "name": "python3"
  },
  "language_info": {
   "codemirror_mode": {
    "name": "ipython",
    "version": 3
   },
   "file_extension": ".py",
   "mimetype": "text/x-python",
   "name": "python",
   "nbconvert_exporter": "python",
   "pygments_lexer": "ipython3",
   "version": "3.8.3"
  }
 },
 "nbformat": 4,
 "nbformat_minor": 4
}
